{
  "nbformat": 4,
  "nbformat_minor": 0,
  "metadata": {
    "colab": {
      "name": "WikiRandomizer071621v2.ipynb",
      "provenance": [],
      "collapsed_sections": []
    },
    "kernelspec": {
      "name": "python3",
      "display_name": "Python 3"
    },
    "language_info": {
      "name": "python"
    }
  },
  "cells": [
    {
      "cell_type": "code",
      "metadata": {
        "colab": {
          "base_uri": "https://localhost:8080/"
        },
        "id": "5OPNsBi3ORaj",
        "outputId": "d4b7ac18-32a8-4dc5-ce8b-1050f7ac34e0"
      },
      "source": [
        "import requests\n",
        "from bs4 import BeautifulSoup\n",
        "from lxml import html as lh\n",
        "import pandas as pd\n",
        "import webbrowser\n",
        "\n",
        "def status_check(r):\n",
        "  if r.status_code == 200:\n",
        "    return 1\n",
        "  else:\n",
        "    print(\"Failed!\")\n",
        "    return -1\n",
        "\n",
        "def encoding_check(r):\n",
        "  return(r.encoding)\n",
        "\n",
        "def decode_content(r,encoding):\n",
        "  return(r.content.decode(encoding))\n",
        "\n",
        "for i in range(3):\n",
        "  wiki = \"https://en.wikipedia.org/wiki/Special:Random\"\n",
        "  response = requests.get(wiki)\n",
        "  contents = decode_content(response, encoding_check(response))\n",
        "  soup = BeautifulSoup(contents, \"html.parser\")\n",
        "  txt_dump = soup.text\n",
        "  index2 = txt_dump.find(\" - Wikipedia\")\n",
        "  print(\"The title of the article is \",\"'\",txt_dump[0:index2].lstrip(),\"'\")\n",
        "  decision = str(input(\"Would you like to learn more about this random article? (Y/N) \"))\n",
        "  \n",
        "  #cleaning the output for the program to convert to Wiki articles\n",
        "  id = txt_dump[0:index2]\n",
        "  id2 = \" \".join(id.split())\n",
        "  id3 = id2.replace(\" \", \"_\")\n",
        "\n",
        "  if decision == \"Y\":\n",
        "    print(\"\\nIf running this on a local machine, your browser will open up the article. \\nIf running via Google Colab, or cloud-based, then the link is below.\")\n",
        "    #need to run a check of the webpage if it's accessible before opening browser\n",
        "    if response.status_code == requests.codes.ok:\n",
        "      webbrowser.open('https://www.wikipedia.org/wiki/%s' % id3, new=1)\n",
        "      print(\"www.wikipedia.org/wiki/%s\" % id3)\n",
        "      #use Pandas to create a table of the references for the article\n",
        "      #allLinks = soup.find(id=\"mw-content-text\").find_all(\"a\")\n",
        "      #print(allLinks)\n",
        "      break\n",
        "    else:\n",
        "      print(\"This article is unable to be reached. Try another article.\")\n",
        "      break\n",
        "  elif decision == \"N\":\n",
        "    if i < 2:\n",
        "      dec2 = str(input(\"Okay, want to try another random article? (Y/N) \"))\n",
        "      if dec2 == \"Y\":\n",
        "        continue\n",
        "      elif dec2 == \"N\":\n",
        "        print(\"Thank you for your interest! Have a wonderful day.\")\n",
        "        break\n",
        "      else:\n",
        "        print(\"Response not recognized. Please enter Y or N.\")\n",
        "        continue\n",
        "    elif i == 2:\n",
        "      print(\"Re-run the program if you are wanting more random articles.\")\n",
        "      break\n",
        "  else:\n",
        "    print(\"You didn't provide a proper response. Please enter Y or N.\")\n",
        "    break\n"
      ],
      "execution_count": 3,
      "outputs": [
        {
          "output_type": "stream",
          "text": [
            "The title of the article is  ' Shimosato Station '\n",
            "Would you like to learn more about this random article? (Y/N) N\n",
            "Okay, want to try another random article? (Y/N) Y\n",
            "The title of the article is  ' Names in Marble '\n",
            "Would you like to learn more about this random article? (Y/N) Y\n",
            "\n",
            "If running this on a local machine, your browser will open up the article. \n",
            "If running via Google Colab, or cloud-based, then the link is below.\n",
            "www.wikipedia.org/wiki/Names_in_Marble\n"
          ],
          "name": "stdout"
        }
      ]
    }
  ]
}